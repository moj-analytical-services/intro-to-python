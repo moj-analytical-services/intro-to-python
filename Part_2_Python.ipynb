{
 "cells": [
  {
   "cell_type": "markdown",
   "id": "0",
   "metadata": {
    "tags": []
   },
   "source": [
    "# Part 2: Python\n",
    "\n",
    "![Another obligatory XKCD cartoon](https://imgs.xkcd.com/comics/python.png)\n",
    "\n",
    "First switch to the kernel created in Part 1 by clicking on the right hand side of the notebook menu bar, between the bug and the circle.\n",
    "\n",
    "The cartoon above is out of date, print statements have to be in brackets now. Click on the code below - called a notebook cell - and press `Shift+Enter` to run. "
   ]
  },
  {
   "cell_type": "code",
   "execution_count": null,
   "id": "1",
   "metadata": {
    "tags": []
   },
   "outputs": [],
   "source": [
    "print(\"Hello, world!\")"
   ]
  },
  {
   "cell_type": "markdown",
   "id": "2",
   "metadata": {},
   "source": [
    "In a Jupyter notebook the value of the last statement is printed so you can just type"
   ]
  },
  {
   "cell_type": "code",
   "execution_count": null,
   "id": "3",
   "metadata": {
    "tags": []
   },
   "outputs": [],
   "source": [
    "\"Hello world!\""
   ]
  },
  {
   "cell_type": "markdown",
   "id": "4",
   "metadata": {
    "tags": []
   },
   "source": [
    "## Using Jupyter\n",
    "\n",
    "There are two modes in Jupyter, edit and command. Press the `Esc` key to enter command mode and `Enter` to return to edit. Within command mode there are some useful shortcuts.\n",
    "* `M` uses Markdown format for the cell, used for documentation (like this cell)\n",
    "* `Y` switches to code format\n",
    "* `A` adds a cell above the current cell\n",
    "* `B` adds a cell below the current cell\n",
    "* `D,D` deletes the current cell\n",
    "* `Z` undoes the last cell operation\n",
    "\n",
    "To see all shortcuts go to `Settings->Advanced Settings Editor->Keyboard Shortcuts` within the category `notebook`.\n",
    "\n",
    "#### Task\n",
    "\n",
    "Add a cell below this one and delete it."
   ]
  },
  {
   "cell_type": "markdown",
   "id": "5",
   "metadata": {
    "tags": []
   },
   "source": [
    "## A very quick tour of Python\n",
    "\n",
    "### Do maths"
   ]
  },
  {
   "cell_type": "code",
   "execution_count": null,
   "id": "6",
   "metadata": {
    "tags": []
   },
   "outputs": [],
   "source": [
    "1 + 1"
   ]
  },
  {
   "cell_type": "code",
   "execution_count": null,
   "id": "7",
   "metadata": {
    "tags": []
   },
   "outputs": [],
   "source": [
    "# Multiplication - also this how you do comments\n",
    "2 * 7"
   ]
  },
  {
   "cell_type": "code",
   "execution_count": null,
   "id": "8",
   "metadata": {
    "tags": []
   },
   "outputs": [],
   "source": [
    "17 / 3"
   ]
  },
  {
   "cell_type": "code",
   "execution_count": null,
   "id": "9",
   "metadata": {
    "tags": []
   },
   "outputs": [],
   "source": [
    "17 // 3"
   ]
  },
  {
   "cell_type": "code",
   "execution_count": null,
   "id": "10",
   "metadata": {
    "tags": []
   },
   "outputs": [],
   "source": [
    "17 % 3"
   ]
  },
  {
   "cell_type": "markdown",
   "id": "11",
   "metadata": {
    "tags": []
   },
   "source": [
    "**Question** How does the `//` operator round?\n",
    "\n",
    "<details><summary><b>Hint</b></summary>\n",
    "What does <code>17 // 3</code> return? What does <code>(-17) // 3</code> return? \n",
    "</details>\n",
    "<br>"
   ]
  },
  {
   "cell_type": "markdown",
   "id": "12",
   "metadata": {},
   "source": [
    "Use brackets to change operation order."
   ]
  },
  {
   "cell_type": "code",
   "execution_count": null,
   "id": "13",
   "metadata": {
    "tags": []
   },
   "outputs": [],
   "source": [
    "2 ** 3 + 1"
   ]
  },
  {
   "cell_type": "code",
   "execution_count": null,
   "id": "14",
   "metadata": {
    "tags": []
   },
   "outputs": [],
   "source": [
    "2 ** (3 + 1)"
   ]
  },
  {
   "cell_type": "markdown",
   "id": "15",
   "metadata": {},
   "source": [
    "Operations involving floats return floats."
   ]
  },
  {
   "cell_type": "code",
   "execution_count": null,
   "id": "16",
   "metadata": {
    "tags": []
   },
   "outputs": [],
   "source": [
    "8.0 / 2"
   ]
  },
  {
   "cell_type": "code",
   "execution_count": null,
   "id": "17",
   "metadata": {
    "tags": []
   },
   "outputs": [],
   "source": [
    "x = 1\n",
    "y = 2\n",
    "x + y"
   ]
  },
  {
   "cell_type": "markdown",
   "id": "18",
   "metadata": {
    "tags": []
   },
   "source": [
    "### Strings"
   ]
  },
  {
   "cell_type": "code",
   "execution_count": null,
   "id": "19",
   "metadata": {
    "tags": []
   },
   "outputs": [],
   "source": [
    "x = \"1\"\n",
    "y = \"2\"\n",
    "x + y"
   ]
  },
  {
   "cell_type": "code",
   "execution_count": null,
   "id": "20",
   "metadata": {
    "tags": []
   },
   "outputs": [],
   "source": [
    "x = 17\n",
    "f\"x is equal to {x}\""
   ]
  },
  {
   "cell_type": "code",
   "execution_count": null,
   "id": "21",
   "metadata": {
    "tags": []
   },
   "outputs": [],
   "source": [
    "f\"{x = }\""
   ]
  },
  {
   "cell_type": "code",
   "execution_count": null,
   "id": "22",
   "metadata": {
    "tags": []
   },
   "outputs": [],
   "source": [
    "s = \"The quick brown fox jumps over the lazy dog\"\n",
    "s[0]"
   ]
  },
  {
   "cell_type": "code",
   "execution_count": null,
   "id": "23",
   "metadata": {
    "tags": []
   },
   "outputs": [],
   "source": [
    "s[:3]"
   ]
  },
  {
   "cell_type": "code",
   "execution_count": null,
   "id": "24",
   "metadata": {
    "tags": []
   },
   "outputs": [],
   "source": [
    "s[-3:]"
   ]
  },
  {
   "cell_type": "code",
   "execution_count": null,
   "id": "25",
   "metadata": {
    "tags": []
   },
   "outputs": [],
   "source": [
    "s.replace(\"fox\", \"badger\")"
   ]
  },
  {
   "cell_type": "code",
   "execution_count": null,
   "id": "26",
   "metadata": {
    "tags": []
   },
   "outputs": [],
   "source": [
    "s.split()"
   ]
  },
  {
   "cell_type": "code",
   "execution_count": null,
   "id": "27",
   "metadata": {
    "tags": []
   },
   "outputs": [],
   "source": [
    "\"s3://bucket/dir/file.csv\".split(\"/\")"
   ]
  },
  {
   "cell_type": "markdown",
   "id": "28",
   "metadata": {},
   "source": [
    "### Lists"
   ]
  },
  {
   "cell_type": "code",
   "execution_count": null,
   "id": "29",
   "metadata": {
    "tags": []
   },
   "outputs": [],
   "source": [
    "numbers = [1, 2, 3, 4, 5, 6, 7, 8, 9, 10]\n",
    "numbers[0]"
   ]
  },
  {
   "cell_type": "code",
   "execution_count": null,
   "id": "30",
   "metadata": {
    "tags": []
   },
   "outputs": [],
   "source": [
    "len(numbers)"
   ]
  },
  {
   "cell_type": "code",
   "execution_count": null,
   "id": "31",
   "metadata": {
    "tags": []
   },
   "outputs": [],
   "source": [
    "numbers[:5]"
   ]
  },
  {
   "cell_type": "code",
   "execution_count": null,
   "id": "32",
   "metadata": {
    "tags": []
   },
   "outputs": [],
   "source": [
    "numbers[1:5]"
   ]
  },
  {
   "cell_type": "code",
   "execution_count": null,
   "id": "33",
   "metadata": {
    "tags": []
   },
   "outputs": [],
   "source": [
    "numbers[-1]"
   ]
  },
  {
   "cell_type": "code",
   "execution_count": null,
   "id": "34",
   "metadata": {
    "tags": []
   },
   "outputs": [],
   "source": [
    "numbers[-2:]"
   ]
  },
  {
   "cell_type": "code",
   "execution_count": null,
   "id": "35",
   "metadata": {
    "tags": []
   },
   "outputs": [],
   "source": [
    "numbers.append(11)\n",
    "numbers"
   ]
  },
  {
   "cell_type": "code",
   "execution_count": null,
   "id": "36",
   "metadata": {
    "tags": []
   },
   "outputs": [],
   "source": [
    "numbers.extend([12, 13, 14])\n",
    "numbers"
   ]
  },
  {
   "cell_type": "code",
   "execution_count": null,
   "id": "37",
   "metadata": {
    "tags": []
   },
   "outputs": [],
   "source": [
    "numbers + [15, 16, 17]"
   ]
  },
  {
   "cell_type": "code",
   "execution_count": null,
   "id": "38",
   "metadata": {
    "tags": []
   },
   "outputs": [],
   "source": [
    "del numbers[4:10]\n",
    "numbers"
   ]
  },
  {
   "cell_type": "code",
   "execution_count": null,
   "id": "39",
   "metadata": {
    "tags": []
   },
   "outputs": [],
   "source": [
    "[1, 2, 3, 4] * 2"
   ]
  },
  {
   "cell_type": "markdown",
   "id": "40",
   "metadata": {},
   "source": [
    "That might not be what you're expecting.\n",
    "\n",
    "This might not either."
   ]
  },
  {
   "cell_type": "code",
   "execution_count": null,
   "id": "41",
   "metadata": {
    "tags": []
   },
   "outputs": [],
   "source": [
    "xs = ['a', 'b', 'c', 'd']\n",
    "ys = xs\n",
    "ys.append('e')\n",
    "\n",
    "xs"
   ]
  },
  {
   "cell_type": "markdown",
   "id": "42",
   "metadata": {
    "tags": []
   },
   "source": [
    "Lists are passed by reference. Use `copy.deepcopy` to be on the safe side."
   ]
  },
  {
   "cell_type": "code",
   "execution_count": null,
   "id": "43",
   "metadata": {
    "tags": []
   },
   "outputs": [],
   "source": [
    "import copy\n",
    "\n",
    "xs = ['a', 'b', 'c', 'd']\n",
    "ys = copy.deepcopy(xs)\n",
    "ys.append('e')\n",
    "\n",
    "xs"
   ]
  },
  {
   "cell_type": "markdown",
   "id": "44",
   "metadata": {
    "tags": []
   },
   "source": [
    "### Functions"
   ]
  },
  {
   "cell_type": "code",
   "execution_count": null,
   "id": "45",
   "metadata": {
    "tags": []
   },
   "outputs": [],
   "source": [
    "def add_two(x):\n",
    "    result = x + 2\n",
    "    return result\n",
    "\n",
    "add_two(3)"
   ]
  },
  {
   "cell_type": "markdown",
   "id": "46",
   "metadata": {
    "tags": []
   },
   "source": [
    "Note that indentation is important in Python! Indentation indicates a block of code, similar to curly braces `{...}` in other languages such as R. Most editors will automatically handle this.\n",
    "\n",
    "#### Task\n",
    "\n",
    "Write a function to find the filename of a S3 path, like \"s3://bucket/dir/file.csv\".\n",
    "\n",
    "<details><summary><b>Hint</b></summary>\n",
    "Use the <code>split</code> method on a string and the list indexing shown above to get the last element of the resulting list.\n",
    "</details>\n",
    "<br>\n",
    "\n",
    "<details><summary><b>Hint 2</b></summary>\n",
    "<code>\n",
    "def s3_filename(s3_path):\n",
    "    return ...\n",
    "</code>\n",
    "</details>\n",
    "<br>\n",
    "\n",
    "<details><summary><b>Solution</b></summary>\n",
    "<code>\n",
    "def s3_filename(s3_path):\n",
    "    # Split the path by the separator \"/\"\n",
    "    s3_parts = s3_path.split(\"/\")\n",
    "    # Return the last field\n",
    "    return s3_parts[-1]\n",
    "</code>\n",
    "</details>\n",
    "<br>"
   ]
  },
  {
   "cell_type": "code",
   "execution_count": null,
   "id": "47",
   "metadata": {
    "tags": []
   },
   "outputs": [],
   "source": [
    "def find_filename(s3path):\n",
    "    result = s3path.split(\"/\")[-1]\n",
    "    return result"
   ]
  },
  {
   "cell_type": "code",
   "execution_count": null,
   "id": "48",
   "metadata": {
    "tags": []
   },
   "outputs": [],
   "source": [
    "find_filename(\"s3://bucket/dir/file.csv\")"
   ]
  },
  {
   "cell_type": "markdown",
   "id": "49",
   "metadata": {},
   "source": [
    "### Boolean operators"
   ]
  },
  {
   "cell_type": "code",
   "execution_count": null,
   "id": "50",
   "metadata": {
    "tags": []
   },
   "outputs": [],
   "source": [
    "True and True"
   ]
  },
  {
   "cell_type": "code",
   "execution_count": null,
   "id": "51",
   "metadata": {
    "tags": []
   },
   "outputs": [],
   "source": [
    "True and False"
   ]
  },
  {
   "cell_type": "code",
   "execution_count": null,
   "id": "52",
   "metadata": {
    "tags": []
   },
   "outputs": [],
   "source": [
    "True or False"
   ]
  },
  {
   "cell_type": "code",
   "execution_count": null,
   "id": "53",
   "metadata": {
    "tags": []
   },
   "outputs": [],
   "source": [
    "not True"
   ]
  },
  {
   "cell_type": "code",
   "execution_count": null,
   "id": "54",
   "metadata": {
    "tags": []
   },
   "outputs": [],
   "source": [
    "x = 10\n",
    "x % 2 == 0"
   ]
  },
  {
   "cell_type": "code",
   "execution_count": null,
   "id": "55",
   "metadata": {
    "tags": []
   },
   "outputs": [],
   "source": [
    "x % 2 == 0 and not (x > 5)"
   ]
  },
  {
   "cell_type": "code",
   "execution_count": null,
   "id": "56",
   "metadata": {
    "tags": []
   },
   "outputs": [],
   "source": [
    "x % 2 == 0 and x <= 20"
   ]
  },
  {
   "cell_type": "code",
   "execution_count": null,
   "id": "57",
   "metadata": {
    "tags": []
   },
   "outputs": [],
   "source": [
    "2 in [1, 2, 3]"
   ]
  },
  {
   "cell_type": "markdown",
   "id": "58",
   "metadata": {
    "tags": []
   },
   "source": [
    "### if... elif... else"
   ]
  },
  {
   "cell_type": "code",
   "execution_count": null,
   "id": "59",
   "metadata": {},
   "outputs": [],
   "source": [
    "def fizzbuzz(x):\n",
    "    if x % 15 == 0:\n",
    "        return \"fizzbuzz\"\n",
    "    elif x % 3 == 0:\n",
    "        return \"fizz\"\n",
    "    elif x % 5 == 0:\n",
    "        return \"buzz\"\n",
    "    else:\n",
    "        return str(x)"
   ]
  },
  {
   "cell_type": "markdown",
   "id": "60",
   "metadata": {},
   "source": [
    "### for loops"
   ]
  },
  {
   "cell_type": "code",
   "execution_count": null,
   "id": "61",
   "metadata": {
    "tags": []
   },
   "outputs": [],
   "source": [
    "for x in [1, 2, 3, 4]:\n",
    "    print(x * 2)"
   ]
  },
  {
   "cell_type": "markdown",
   "id": "62",
   "metadata": {},
   "source": [
    "### while loops"
   ]
  },
  {
   "cell_type": "code",
   "execution_count": null,
   "id": "63",
   "metadata": {
    "tags": []
   },
   "outputs": [],
   "source": [
    "x = 0\n",
    "while x < 10:\n",
    "    x = x + 2\n",
    "    print(x)"
   ]
  },
  {
   "cell_type": "markdown",
   "id": "64",
   "metadata": {},
   "source": [
    "### List comprehensions"
   ]
  },
  {
   "cell_type": "code",
   "execution_count": null,
   "id": "65",
   "metadata": {
    "tags": []
   },
   "outputs": [],
   "source": [
    "[x * 2 for x in numbers]"
   ]
  },
  {
   "cell_type": "code",
   "execution_count": null,
   "id": "66",
   "metadata": {
    "tags": []
   },
   "outputs": [],
   "source": [
    "[\n",
    "    x * 2\n",
    "    for x in numbers\n",
    "    if x % 3 == 0\n",
    "]"
   ]
  },
  {
   "cell_type": "markdown",
   "id": "67",
   "metadata": {
    "tags": []
   },
   "source": [
    "### Sets\n",
    "\n",
    "Items in sets are unique and must be hashable. This normally means that they are immutable, so lists cannot be included in sets.\n",
    "\n",
    "NB An empty set is declared by `set()` rather than `{}`, which is a dictionary."
   ]
  },
  {
   "cell_type": "code",
   "execution_count": null,
   "id": "68",
   "metadata": {
    "tags": []
   },
   "outputs": [],
   "source": [
    "s1 = {1, 2, 3}\n",
    "s2 = {3, 4, 5}\n",
    "union = s1 | s2\n",
    "intersection = s1 & s2\n",
    "diff = s1 - s2\n",
    "\n",
    "union, intersection, diff"
   ]
  },
  {
   "cell_type": "code",
   "execution_count": null,
   "id": "69",
   "metadata": {
    "tags": []
   },
   "outputs": [],
   "source": [
    "s1.add(3)\n",
    "s1.add(6)\n",
    "s1.remove(1)\n",
    "s1"
   ]
  },
  {
   "cell_type": "markdown",
   "id": "70",
   "metadata": {},
   "source": [
    "There are also set comprehensions."
   ]
  },
  {
   "cell_type": "code",
   "execution_count": null,
   "id": "71",
   "metadata": {
    "tags": []
   },
   "outputs": [],
   "source": [
    "numbers = [1, 2, 3, 4, 5, 6, 7, 8, 9, 10]\n",
    "\n",
    "{x // 3 for x in numbers}"
   ]
  },
  {
   "cell_type": "code",
   "execution_count": null,
   "id": "72",
   "metadata": {
    "tags": []
   },
   "outputs": [],
   "source": [
    "[x // 3 for x in numbers]"
   ]
  },
  {
   "cell_type": "markdown",
   "id": "73",
   "metadata": {},
   "source": [
    "### Dictionaries\n",
    "\n",
    "Dictionaries are a set of key-value pairs. The keys must be unique and hashable."
   ]
  },
  {
   "cell_type": "code",
   "execution_count": null,
   "id": "74",
   "metadata": {
    "tags": []
   },
   "outputs": [],
   "source": [
    "d = {\n",
    "    \"a\": 1,\n",
    "    \"b\": 2,\n",
    "    \"c\": {\n",
    "        \"d\": 3,\n",
    "        \"e\": 4\n",
    "    }\n",
    "}\n",
    "\n",
    "d[\"a\"]"
   ]
  },
  {
   "cell_type": "code",
   "execution_count": null,
   "id": "75",
   "metadata": {
    "tags": []
   },
   "outputs": [],
   "source": [
    "d[\"c\"][\"d\"]"
   ]
  },
  {
   "cell_type": "code",
   "execution_count": null,
   "id": "76",
   "metadata": {
    "tags": []
   },
   "outputs": [],
   "source": [
    "d[\"f\"]"
   ]
  },
  {
   "cell_type": "code",
   "execution_count": null,
   "id": "77",
   "metadata": {
    "tags": []
   },
   "outputs": [],
   "source": [
    "d.get(\"f\") is None"
   ]
  },
  {
   "cell_type": "markdown",
   "id": "78",
   "metadata": {},
   "source": [
    "`None` is none. It's what's returned when a function has no return value. Note that its existence is tested with `is` rather than `==`."
   ]
  },
  {
   "cell_type": "code",
   "execution_count": null,
   "id": "79",
   "metadata": {
    "tags": []
   },
   "outputs": [],
   "source": [
    "d.get(\"f\", 0)"
   ]
  },
  {
   "cell_type": "code",
   "execution_count": null,
   "id": "80",
   "metadata": {
    "tags": []
   },
   "outputs": [],
   "source": [
    "{ x: x**2 for x in [1, 2, 3, 4] }"
   ]
  },
  {
   "cell_type": "markdown",
   "id": "81",
   "metadata": {},
   "source": [
    "### Tuples\n",
    "\n",
    "Tuples are immutable lists, which means if their elements are immutable they can be used as dictionary keys and sets. "
   ]
  },
  {
   "cell_type": "code",
   "execution_count": null,
   "id": "82",
   "metadata": {
    "tags": []
   },
   "outputs": [],
   "source": [
    "t = (1, 2, 3)\n",
    "t[0]"
   ]
  },
  {
   "cell_type": "code",
   "execution_count": null,
   "id": "83",
   "metadata": {
    "tags": []
   },
   "outputs": [],
   "source": [
    "from collections import namedtuple\n",
    "\n",
    "Point = namedtuple('Point', ['x', 'y', 'location_name'])\n",
    "\n",
    "p = Point(1, 2, \"Springfield\")\n",
    "p.y"
   ]
  },
  {
   "cell_type": "code",
   "execution_count": null,
   "id": "84",
   "metadata": {
    "tags": []
   },
   "outputs": [],
   "source": [
    "d[p] = \"a\"\n",
    "d"
   ]
  },
  {
   "cell_type": "markdown",
   "id": "85",
   "metadata": {
    "tags": []
   },
   "source": [
    "### Reading and writing files"
   ]
  },
  {
   "cell_type": "code",
   "execution_count": null,
   "id": "86",
   "metadata": {
    "tags": []
   },
   "outputs": [],
   "source": [
    "with open(\"data/atotc.txt\", \"r\") as f:\n",
    "    text = f.readlines()\n",
    "    \n",
    "text[:10]"
   ]
  },
  {
   "cell_type": "code",
   "execution_count": null,
   "id": "87",
   "metadata": {
    "tags": []
   },
   "outputs": [],
   "source": [
    "with open(\"data/atotc_my_version.txt\", \"w\") as f:\n",
    "    f.writelines([line.replace(\"worst\", \"blurst\") for line in text])"
   ]
  },
  {
   "cell_type": "code",
   "execution_count": null,
   "id": "88",
   "metadata": {
    "tags": []
   },
   "outputs": [],
   "source": [
    "with open(\"data/atotc_my_version.txt\", \"r\") as f:\n",
    "    text = f.readlines()\n",
    "    \n",
    "text[:10]"
   ]
  },
  {
   "cell_type": "markdown",
   "id": "89",
   "metadata": {
    "tags": []
   },
   "source": [
    "## Worked example"
   ]
  },
  {
   "cell_type": "markdown",
   "id": "90",
   "metadata": {},
   "source": [
    "### Some magic\n",
    "\n",
    "The below \"magic\" commands below allow you to edit a file and have it automatically reloaded. This allows you to develop functions in a Python script and check their behaviour in a notebook."
   ]
  },
  {
   "cell_type": "code",
   "execution_count": null,
   "id": "91",
   "metadata": {
    "tags": []
   },
   "outputs": [],
   "source": [
    "%load_ext autoreload\n",
    "%autoreload 2"
   ]
  },
  {
   "cell_type": "markdown",
   "id": "92",
   "metadata": {},
   "source": [
    "### Loading modules\n",
    "\n",
    "The following imports show different ways of importing from packages. \n",
    "\n",
    "`requests` is imported as is, so would be used as\n",
    "```python\n",
    "response = requests.get(url)\n",
    "```\n",
    "\n",
    "`itertools` is imported with an alias and would be used as\n",
    "```python\n",
    "for x, y in it.product(xs, ys):\n",
    "    ...\n",
    "```\n",
    "\n",
    "`loads` and `dumps` are loaded from the `json` library - no other functions from the library are accessible.\n",
    "```python\n",
    "data = json.loads(\"data.json\")\n",
    "```\n",
    "\n",
    "`pp` is loaded from the `pprint` library with the alias `prettyprint`.\n",
    "```python\n",
    "prettyprint(data)\n",
    "```"
   ]
  },
  {
   "cell_type": "code",
   "execution_count": null,
   "id": "93",
   "metadata": {
    "tags": []
   },
   "outputs": [],
   "source": [
    "import requests\n",
    "import itertools as it\n",
    "from json import loads, dumps\n",
    "from pprint import pp as prettyprint\n",
    "\n",
    "from collections import Counter"
   ]
  },
  {
   "cell_type": "markdown",
   "id": "94",
   "metadata": {},
   "source": [
    "### Loading data from an API\n",
    "\n",
    "Let's say we're interested in crime statistics around 10 South Colonnade. The police have an API that [is documented here](https://data.police.uk/docs/method/crime-street/). \n",
    "\n",
    "The file `police.py` contains a function `street_crime` that downloads crime data for a particular month. The file can be imported like any other library."
   ]
  },
  {
   "cell_type": "code",
   "execution_count": null,
   "id": "95",
   "metadata": {
    "tags": []
   },
   "outputs": [],
   "source": [
    "import police\n",
    "\n",
    "# Location points for 10SC obtained from Google Maps\n",
    "lat, lon = 51.504706645016924, -0.021505807210266157\n",
    "\n",
    "# Get the data for December 2023\n",
    "crime_data = police.street_crime(lat, lon, 12, 2023)\n",
    "\n",
    "# Useful debugging trick\n",
    "print(f\"{len(crime_data) = }\")\n",
    "\n",
    "prettyprint(crime_data[:2])"
   ]
  },
  {
   "cell_type": "markdown",
   "id": "96",
   "metadata": {},
   "source": [
    "Use a set comprehension to find unique street names."
   ]
  },
  {
   "cell_type": "code",
   "execution_count": null,
   "id": "97",
   "metadata": {
    "tags": []
   },
   "outputs": [],
   "source": [
    "street_names = {\n",
    "    crime[\"location\"][\"street\"][\"name\"]\n",
    "    for crime in crime_data\n",
    "}\n",
    "    \n",
    "street_names"
   ]
  },
  {
   "cell_type": "markdown",
   "id": "98",
   "metadata": {},
   "source": [
    "#### Task\n",
    "\n",
    "Write code to find every unique value of `category` in the data.\n",
    "\n",
    "<details><summary><b>Solution</b></summary>\n",
    "  \n",
    "<pre><code>\n",
    "categories = {\n",
    "    crime[\"category\"]\n",
    "    for crime in crime_data\n",
    "}\n",
    " </code></pre>\n",
    "    \n",
    "</details>\n",
    "<br>"
   ]
  },
  {
   "cell_type": "code",
   "execution_count": null,
   "id": "99",
   "metadata": {
    "tags": []
   },
   "outputs": [],
   "source": [
    "all_categories = {crime[\"category\"] for crime in crime_data}\n",
    "\n",
    "prettyprint(all_categories)"
   ]
  },
  {
   "cell_type": "markdown",
   "id": "100",
   "metadata": {},
   "source": [
    "A list comprehension finding the records of all DLR stations might look like"
   ]
  },
  {
   "cell_type": "code",
   "execution_count": null,
   "id": "101",
   "metadata": {
    "tags": []
   },
   "outputs": [],
   "source": [
    "dlr_crimes = [\n",
    "    crime\n",
    "    for crime in crime_data\n",
    "    if \"(dlr)\" in crime[\"location\"][\"street\"][\"name\"]\n",
    "]"
   ]
  },
  {
   "cell_type": "markdown",
   "id": "102",
   "metadata": {
    "tags": []
   },
   "source": [
    "#### Advanced task\n",
    "\n",
    "Using [Counter in collections](https://docs.python.org/3/library/collections.html#collections.Counter) find the DLR station with the most instances of violent crime last December.\n",
    "\n",
    "<details><summary><b>Solution</b></summary>\n",
    "  \n",
    "<pre><code>\n",
    "from collections import Counter\n",
    "\n",
    "violent_dlr = [\n",
    "    crime[\"location\"][\"street\"][\"name\"]\n",
    "    for crime in crime_data\n",
    "    if \"(dlr)\" in crime[\"location\"][\"street\"][\"name\"]\n",
    "        and crime[\"category\"] == \"violent-crime\"\n",
    "]\n",
    "violent_counts = Counter(violent_dlr)\n",
    "</code></pre>\n",
    "</details>\n",
    "<br>"
   ]
  },
  {
   "cell_type": "code",
   "execution_count": null,
   "id": "103",
   "metadata": {
    "tags": []
   },
   "outputs": [],
   "source": [
    "violent_crime_dlr_locations = [\n",
    "    crime[\"location\"][\"street\"][\"name\"]\n",
    "    for crime in crime_data\n",
    "    if \"(dlr)\" in crime[\"location\"][\"street\"][\"name\"] and crime[\"category\"] == 'violent-crime'\n",
    "]\n",
    "\n",
    "Counter(violent_crime_dlr_locations)"
   ]
  },
  {
   "cell_type": "markdown",
   "id": "104",
   "metadata": {
    "tags": []
   },
   "source": [
    "That doesn't tell us much as there's not enough data. Let's get some more. `range(i, j)` gives all the integers from `i` to `j-1`."
   ]
  },
  {
   "cell_type": "code",
   "execution_count": null,
   "id": "105",
   "metadata": {
    "tags": []
   },
   "outputs": [],
   "source": [
    "all_crimes = []\n",
    "for year in range(2022, 2025):\n",
    "    for month in range(1, 13):\n",
    "        print(year, month)\n",
    "        all_crimes.extend(police.street_crime(lat, lon, month, year))"
   ]
  },
  {
   "cell_type": "markdown",
   "id": "106",
   "metadata": {
    "tags": []
   },
   "source": [
    "#### Task\n",
    "\n",
    "Create and run a function to find the most violent DLR station for a given dataset and run it for the `all_crimes` dataset. \n",
    "\n",
    "**Optional** Parameterise the function to take an arbitrary category and string pattern.\n",
    "\n",
    "Place your function in `police.py` and run it as `police.your_function_name`. \n",
    "\n",
    "<details><summary><b>Solution</b></summary>\n",
    "  \n",
    "<pre><code>\n",
    "# Place this with the other imports at the top of the file\n",
    "from collections import Counter\n",
    "\n",
    "def most_instances(\n",
    "    data, category=\"violent-crime\", string_pattern=\"(dlr)\"\n",
    "):\n",
    "    locs = [\n",
    "        crime[\"location\"][\"street\"][\"name\"]\n",
    "        for crime in data\n",
    "        if string_pattern in crime[\"location\"][\"street\"][\"name\"]\n",
    "            and crime[\"category\"] == category\n",
    "    ]\n",
    "    return Counter(locs)\n",
    "</code></pre>\n",
    "</details>\n",
    "<br>"
   ]
  },
  {
   "cell_type": "code",
   "execution_count": null,
   "id": "107",
   "metadata": {
    "tags": []
   },
   "outputs": [],
   "source": [
    "def most_crimes_location(crimes_dataset, location_pattern = \"(dlr)\", crime_category = \"violent-crime\"):\n",
    "    crime_locations = [\n",
    "        crime[\"location\"][\"street\"][\"name\"]\n",
    "        for crime in crimes_dataset\n",
    "        if location_pattern in crime[\"location\"][\"street\"][\"name\"] and crime[\"category\"] == crime_category\n",
    "    ]\n",
    "\n",
    "    most_crimes = Counter(crime_locations).most_common(1)\n",
    "    \n",
    "    return(most_crimes)"
   ]
  },
  {
   "cell_type": "code",
   "execution_count": null,
   "id": "108",
   "metadata": {
    "tags": []
   },
   "outputs": [],
   "source": [
    "most_crimes_location(all_crimes)"
   ]
  },
  {
   "cell_type": "code",
   "execution_count": null,
   "id": "109",
   "metadata": {
    "tags": []
   },
   "outputs": [],
   "source": [
    "from police import most_crime_location"
   ]
  },
  {
   "cell_type": "code",
   "execution_count": null,
   "id": "110",
   "metadata": {
    "tags": []
   },
   "outputs": [],
   "source": [
    "most_crime_location(all_crimes, n_returned = 5)"
   ]
  },
  {
   "cell_type": "markdown",
   "id": "111",
   "metadata": {
    "tags": []
   },
   "source": [
    "Don't worry too much about what this does, it's writing the data for Part 3. [smart_open](https://github.com/getcrest/smart-open)'s `open` function works in the same way as the built-in version for opening local files, but can also read and write files in the cloud."
   ]
  },
  {
   "cell_type": "code",
   "execution_count": null,
   "id": "112",
   "metadata": {
    "tags": []
   },
   "outputs": [],
   "source": [
    "import smart_open\n",
    "import os\n",
    "\n",
    "username = os.environ[\"AWS_ROLE_ARN\"].split(\"/\")[-1]\n",
    "\n",
    "with smart_open.open(\n",
    "    f\"s3://alpha-everyone/python_training/{username}/crime.json\",\n",
    "    \"w\"\n",
    ") as f:\n",
    "    f.write(dumps(all_crimes))"
   ]
  },
  {
   "cell_type": "markdown",
   "id": "113",
   "metadata": {},
   "source": [
    "In case the above fails due to lack of access, save the file locally."
   ]
  },
  {
   "cell_type": "code",
   "execution_count": null,
   "id": "114",
   "metadata": {
    "tags": []
   },
   "outputs": [],
   "source": [
    "with open(\"crime.json\", \"w\") as f:\n",
    "    f.write(dumps(all_crimes))"
   ]
  },
  {
   "cell_type": "markdown",
   "id": "115",
   "metadata": {},
   "source": [
    "### Further reading\n",
    "\n",
    "The [Python tutorial](https://docs.python.org/3/tutorial/index.html) is a good start, and [the standard library documentation](https://docs.python.org/3/library/index.html) is indispensable.\n",
    "\n",
    "[Real Python](https://realpython.com/search?kind=article) has many excellent free articles. \n",
    "\n",
    "[r/learnpython's recommended resources](https://www.reddit.com/r/learnpython/wiki/index/#wiki_docs)\n",
    "\n",
    "#### Recommended libraries for general purpose programming (built-in)\n",
    "* [collections](https://docs.python.org/3/library/collections.html) - namedtuples and defaultdicts are particularly useful\n",
    "* [dataclasses](https://docs.python.org/3/library/dataclasses.html) for reducing boilerplate when writing classes\n",
    "* [datetime](https://docs.python.org/3/library/datetime.html)\n",
    "* [re](https://docs.python.org/3/library/re.html) for regular expressions\n",
    "* [The various mathematical libraries](https://docs.python.org/3/library/numeric.html)\n",
    "* [itertools](https://docs.python.org/3/library/itertools.html) and [functools](https://docs.python.org/3/library/functools.html) for functional programming\n",
    "\n",
    "#### Recommended libraries for general purpose programming (external)\n",
    "* [pytest](https://docs.pytest.org/en/stable/) is pretty much the default library for testing  \n",
    "* [requests](https://requests.readthedocs.io/en/latest/) for accessing web data and APIs\n",
    "* [smart_open](https://github.com/getcrest/smart-open) for accessing cloud data\n",
    "\n",
    "Now open the notebook `Part_3_Pandas.ipynb`."
   ]
  }
 ],
 "metadata": {
  "kernelspec": {
   "display_name": "Introduction to Python",
   "language": "python",
   "name": "intro-to-python"
  },
  "language_info": {
   "codemirror_mode": {
    "name": "ipython",
    "version": 3
   },
   "file_extension": ".py",
   "mimetype": "text/x-python",
   "name": "python",
   "nbconvert_exporter": "python",
   "pygments_lexer": "ipython3",
   "version": "3.10.11"
  }
 },
 "nbformat": 4,
 "nbformat_minor": 5
}
