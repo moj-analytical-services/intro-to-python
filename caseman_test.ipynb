{
 "cells": [
  {
   "cell_type": "code",
   "execution_count": 1,
   "id": "0122bf6a-3f36-4e73-ba03-095cb7e4ff14",
   "metadata": {},
   "outputs": [
    {
     "data": {
      "text/html": [
       "<div>\n",
       "<style scoped>\n",
       "    .dataframe tbody tr th:only-of-type {\n",
       "        vertical-align: middle;\n",
       "    }\n",
       "\n",
       "    .dataframe tbody tr th {\n",
       "        vertical-align: top;\n",
       "    }\n",
       "\n",
       "    .dataframe thead th {\n",
       "        text-align: right;\n",
       "    }\n",
       "</style>\n",
       "<table border=\"1\" class=\"dataframe\">\n",
       "  <thead>\n",
       "    <tr style=\"text-align: right;\">\n",
       "      <th></th>\n",
       "      <th>CASE_NUMBER</th>\n",
       "      <th>CASE_TYPE</th>\n",
       "      <th>channel</th>\n",
       "      <th>DATE_OF_ISSUE</th>\n",
       "      <th>AMOUNT_CLAIMED</th>\n",
       "      <th>STATUS</th>\n",
       "      <th>LAST_EVENT_DATE</th>\n",
       "      <th>claimant_name</th>\n",
       "      <th>defendant_name</th>\n",
       "      <th>claimant_type</th>\n",
       "      <th>defendant_type</th>\n",
       "      <th>claimant_postcode</th>\n",
       "      <th>defendant_postcode</th>\n",
       "      <th>representation</th>\n",
       "      <th>PARTICULARS_OF_CLAIM</th>\n",
       "      <th>BRIEF_DETAILS_OF_CLAIM</th>\n",
       "      <th>text</th>\n",
       "      <th>predicted</th>\n",
       "    </tr>\n",
       "  </thead>\n",
       "  <tbody>\n",
       "    <tr>\n",
       "      <th>0</th>\n",
       "      <td>002LR599</td>\n",
       "      <td>PERSONAL INJURY</td>\n",
       "      <td>ocmc_lr</td>\n",
       "      <td>02-JAN-19</td>\n",
       "      <td>NaN</td>\n",
       "      <td>NaN</td>\n",
       "      <td>09-SEP-19</td>\n",
       "      <td>MR MOHAMMAD AKHTAR</td>\n",
       "      <td>PHILIP LUND MOTOR ENGINEERS LIMITED</td>\n",
       "      <td>ind</td>\n",
       "      <td>org</td>\n",
       "      <td>BD5 0LE</td>\n",
       "      <td>BD20 6RH</td>\n",
       "      <td>Both</td>\n",
       "      <td>NaN</td>\n",
       "      <td>STS PI RTA 12/1/16</td>\n",
       "      <td>STS PI RTA 12/1/16</td>\n",
       "      <td>Negligence</td>\n",
       "    </tr>\n",
       "    <tr>\n",
       "      <th>1</th>\n",
       "      <td>002LR605</td>\n",
       "      <td>PERSONAL INJURY</td>\n",
       "      <td>ocmc_lr</td>\n",
       "      <td>03-JAN-19</td>\n",
       "      <td>NaN</td>\n",
       "      <td>NaN</td>\n",
       "      <td>09-SEP-20</td>\n",
       "      <td>MR OLIVER GIBBONS</td>\n",
       "      <td>RAC FORESTRY LIMITED</td>\n",
       "      <td>ind</td>\n",
       "      <td>org</td>\n",
       "      <td>TN32 5LL</td>\n",
       "      <td>TN33 0AG</td>\n",
       "      <td>Both</td>\n",
       "      <td>NaN</td>\n",
       "      <td>STS PI RTA 18/3/18</td>\n",
       "      <td>STS PI RTA 18/3/18</td>\n",
       "      <td>Negligence</td>\n",
       "    </tr>\n",
       "    <tr>\n",
       "      <th>2</th>\n",
       "      <td>002LR636</td>\n",
       "      <td>PERSONAL INJURY</td>\n",
       "      <td>ocmc_lr</td>\n",
       "      <td>10-JAN-19</td>\n",
       "      <td>NaN</td>\n",
       "      <td>NaN</td>\n",
       "      <td>15-JAN-21</td>\n",
       "      <td>MR JOHN MCDAID</td>\n",
       "      <td>MR MICHAEL NEIL THOMAS</td>\n",
       "      <td>ind</td>\n",
       "      <td>ind</td>\n",
       "      <td>GL51 8AQ</td>\n",
       "      <td>GL2 8HY</td>\n",
       "      <td>Both</td>\n",
       "      <td>NaN</td>\n",
       "      <td>STS RTA</td>\n",
       "      <td>STS RTA</td>\n",
       "      <td>Negligence</td>\n",
       "    </tr>\n",
       "    <tr>\n",
       "      <th>3</th>\n",
       "      <td>002LR661</td>\n",
       "      <td>PERSONAL INJURY</td>\n",
       "      <td>ocmc_lr</td>\n",
       "      <td>09-JAN-19</td>\n",
       "      <td>NaN</td>\n",
       "      <td>SETTLED</td>\n",
       "      <td>12-MAR-20</td>\n",
       "      <td>MR DAVID WALSH</td>\n",
       "      <td>MS DAWN JAMES</td>\n",
       "      <td>ind</td>\n",
       "      <td>ind</td>\n",
       "      <td>NW9 7PH</td>\n",
       "      <td>CT11 9QA</td>\n",
       "      <td>Both</td>\n",
       "      <td>NaN</td>\n",
       "      <td>STS PI ACCIDENT 12/2/16</td>\n",
       "      <td>STS PI ACCIDENT 12/2/16</td>\n",
       "      <td>Negligence</td>\n",
       "    </tr>\n",
       "    <tr>\n",
       "      <th>4</th>\n",
       "      <td>002LR664</td>\n",
       "      <td>PERSONAL INJURY</td>\n",
       "      <td>ocmc_lr</td>\n",
       "      <td>10-JAN-19</td>\n",
       "      <td>NaN</td>\n",
       "      <td>NaN</td>\n",
       "      <td>25-MAY-19</td>\n",
       "      <td>MRS ANGHARAD HOLTHAM</td>\n",
       "      <td>MR PETE DOUGLAS</td>\n",
       "      <td>ind</td>\n",
       "      <td>ind</td>\n",
       "      <td>NN7 3LR</td>\n",
       "      <td>NN2 7LQ</td>\n",
       "      <td>Claimant</td>\n",
       "      <td>NaN</td>\n",
       "      <td>STS PI RTA 4/2/16</td>\n",
       "      <td>STS PI RTA 4/2/16</td>\n",
       "      <td>Negligence</td>\n",
       "    </tr>\n",
       "  </tbody>\n",
       "</table>\n",
       "</div>"
      ],
      "text/plain": [
       "  CASE_NUMBER        CASE_TYPE  channel DATE_OF_ISSUE  AMOUNT_CLAIMED  \\\n",
       "0    002LR599  PERSONAL INJURY  ocmc_lr     02-JAN-19             NaN   \n",
       "1    002LR605  PERSONAL INJURY  ocmc_lr     03-JAN-19             NaN   \n",
       "2    002LR636  PERSONAL INJURY  ocmc_lr     10-JAN-19             NaN   \n",
       "3    002LR661  PERSONAL INJURY  ocmc_lr     09-JAN-19             NaN   \n",
       "4    002LR664  PERSONAL INJURY  ocmc_lr     10-JAN-19             NaN   \n",
       "\n",
       "    STATUS LAST_EVENT_DATE         claimant_name  \\\n",
       "0      NaN       09-SEP-19    MR MOHAMMAD AKHTAR   \n",
       "1      NaN       09-SEP-20     MR OLIVER GIBBONS   \n",
       "2      NaN       15-JAN-21        MR JOHN MCDAID   \n",
       "3  SETTLED       12-MAR-20        MR DAVID WALSH   \n",
       "4      NaN       25-MAY-19  MRS ANGHARAD HOLTHAM   \n",
       "\n",
       "                        defendant_name claimant_type defendant_type  \\\n",
       "0  PHILIP LUND MOTOR ENGINEERS LIMITED           ind            org   \n",
       "1                 RAC FORESTRY LIMITED           ind            org   \n",
       "2               MR MICHAEL NEIL THOMAS           ind            ind   \n",
       "3                        MS DAWN JAMES           ind            ind   \n",
       "4                      MR PETE DOUGLAS           ind            ind   \n",
       "\n",
       "  claimant_postcode defendant_postcode representation PARTICULARS_OF_CLAIM  \\\n",
       "0           BD5 0LE           BD20 6RH           Both                  NaN   \n",
       "1          TN32 5LL           TN33 0AG           Both                  NaN   \n",
       "2          GL51 8AQ            GL2 8HY           Both                  NaN   \n",
       "3           NW9 7PH           CT11 9QA           Both                  NaN   \n",
       "4           NN7 3LR            NN2 7LQ       Claimant                  NaN   \n",
       "\n",
       "    BRIEF_DETAILS_OF_CLAIM                     text   predicted  \n",
       "0       STS PI RTA 12/1/16       STS PI RTA 12/1/16  Negligence  \n",
       "1       STS PI RTA 18/3/18       STS PI RTA 18/3/18  Negligence  \n",
       "2                  STS RTA                  STS RTA  Negligence  \n",
       "3  STS PI ACCIDENT 12/2/16  STS PI ACCIDENT 12/2/16  Negligence  \n",
       "4        STS PI RTA 4/2/16        STS PI RTA 4/2/16  Negligence  "
      ]
     },
     "execution_count": 1,
     "metadata": {},
     "output_type": "execute_result"
    }
   ],
   "source": [
    "import pandas as pd\n",
    "df = pd.read_csv(\"s3://alpha-hmcts-ap/caseman/categorisation_results/caseman_2019_sample_with_civil_tags_added.csv\")\n",
    "df.head(5)"
   ]
  },
  {
   "cell_type": "code",
   "execution_count": 2,
   "id": "7e01e001-639a-4326-a092-a8780950ef79",
   "metadata": {},
   "outputs": [
    {
     "data": {
      "text/plain": [
       "xbulk      56462\n",
       "paper      14437\n",
       "mcol        8143\n",
       "ocmc_mc     3575\n",
       "ocmc_lr      147\n",
       "Name: channel, dtype: int64"
      ]
     },
     "execution_count": 2,
     "metadata": {},
     "output_type": "execute_result"
    }
   ],
   "source": [
    "df[\"channel\"].value_counts()"
   ]
  },
  {
   "cell_type": "code",
   "execution_count": 3,
   "id": "224dd9cd-f02d-4cc2-8424-0050c1392bbe",
   "metadata": {},
   "outputs": [
    {
     "data": {
      "text/plain": [
       "xbulk      0.682205\n",
       "paper      0.174436\n",
       "mcol       0.098388\n",
       "ocmc_mc    0.043195\n",
       "ocmc_lr    0.001776\n",
       "Name: channel, dtype: float64"
      ]
     },
     "execution_count": 3,
     "metadata": {},
     "output_type": "execute_result"
    }
   ],
   "source": [
    "df[\"channel\"].value_counts(normalize=True)"
   ]
  },
  {
   "cell_type": "code",
   "execution_count": 4,
   "id": "17e206d4-b516-41d9-b291-37b2af31601e",
   "metadata": {},
   "outputs": [
    {
     "data": {
      "text/plain": [
       "xbulk      68.220482\n",
       "paper      17.443575\n",
       "mcol        9.838819\n",
       "ocmc_mc     4.319511\n",
       "ocmc_lr     0.177613\n",
       "Name: channel, dtype: float64"
      ]
     },
     "execution_count": 4,
     "metadata": {},
     "output_type": "execute_result"
    }
   ],
   "source": [
    "df[\"channel\"].value_counts(normalize=True)*100."
   ]
  },
  {
   "cell_type": "code",
   "execution_count": 5,
   "id": "95906fb9-0fb8-4561-91d3-5b983ade3825",
   "metadata": {},
   "outputs": [
    {
     "ename": "KeyError",
     "evalue": "('CASE_TYPE', 'channel')",
     "output_type": "error",
     "traceback": [
      "\u001b[0;31m---------------------------------------------------------------------------\u001b[0m",
      "\u001b[0;31mKeyError\u001b[0m                                  Traceback (most recent call last)",
      "\u001b[0;32m/opt/conda/lib/python3.9/site-packages/pandas/core/indexes/base.py\u001b[0m in \u001b[0;36mget_loc\u001b[0;34m(self, key, method, tolerance)\u001b[0m\n\u001b[1;32m   3360\u001b[0m             \u001b[0;32mtry\u001b[0m\u001b[0;34m:\u001b[0m\u001b[0;34m\u001b[0m\u001b[0;34m\u001b[0m\u001b[0m\n\u001b[0;32m-> 3361\u001b[0;31m                 \u001b[0;32mreturn\u001b[0m \u001b[0mself\u001b[0m\u001b[0;34m.\u001b[0m\u001b[0m_engine\u001b[0m\u001b[0;34m.\u001b[0m\u001b[0mget_loc\u001b[0m\u001b[0;34m(\u001b[0m\u001b[0mcasted_key\u001b[0m\u001b[0;34m)\u001b[0m\u001b[0;34m\u001b[0m\u001b[0;34m\u001b[0m\u001b[0m\n\u001b[0m\u001b[1;32m   3362\u001b[0m             \u001b[0;32mexcept\u001b[0m \u001b[0mKeyError\u001b[0m \u001b[0;32mas\u001b[0m \u001b[0merr\u001b[0m\u001b[0;34m:\u001b[0m\u001b[0;34m\u001b[0m\u001b[0;34m\u001b[0m\u001b[0m\n",
      "\u001b[0;32m/opt/conda/lib/python3.9/site-packages/pandas/_libs/index.pyx\u001b[0m in \u001b[0;36mpandas._libs.index.IndexEngine.get_loc\u001b[0;34m()\u001b[0m\n",
      "\u001b[0;32m/opt/conda/lib/python3.9/site-packages/pandas/_libs/index.pyx\u001b[0m in \u001b[0;36mpandas._libs.index.IndexEngine.get_loc\u001b[0;34m()\u001b[0m\n",
      "\u001b[0;32mpandas/_libs/hashtable_class_helper.pxi\u001b[0m in \u001b[0;36mpandas._libs.hashtable.PyObjectHashTable.get_item\u001b[0;34m()\u001b[0m\n",
      "\u001b[0;32mpandas/_libs/hashtable_class_helper.pxi\u001b[0m in \u001b[0;36mpandas._libs.hashtable.PyObjectHashTable.get_item\u001b[0;34m()\u001b[0m\n",
      "\u001b[0;31mKeyError\u001b[0m: ('CASE_TYPE', 'channel')",
      "\nThe above exception was the direct cause of the following exception:\n",
      "\u001b[0;31mKeyError\u001b[0m                                  Traceback (most recent call last)",
      "\u001b[0;32m/tmp/ipykernel_235/226021557.py\u001b[0m in \u001b[0;36m<module>\u001b[0;34m\u001b[0m\n\u001b[0;32m----> 1\u001b[0;31m \u001b[0mdf\u001b[0m\u001b[0;34m[\u001b[0m\u001b[0;34m\"CASE_TYPE\"\u001b[0m\u001b[0;34m,\u001b[0m \u001b[0;34m\"channel\"\u001b[0m\u001b[0;34m]\u001b[0m\u001b[0;34m.\u001b[0m\u001b[0mvalue_counts\u001b[0m\u001b[0;34m(\u001b[0m\u001b[0;34m)\u001b[0m\u001b[0;34m\u001b[0m\u001b[0;34m\u001b[0m\u001b[0m\n\u001b[0m",
      "\u001b[0;32m/opt/conda/lib/python3.9/site-packages/pandas/core/frame.py\u001b[0m in \u001b[0;36m__getitem__\u001b[0;34m(self, key)\u001b[0m\n\u001b[1;32m   3456\u001b[0m             \u001b[0;32mif\u001b[0m \u001b[0mself\u001b[0m\u001b[0;34m.\u001b[0m\u001b[0mcolumns\u001b[0m\u001b[0;34m.\u001b[0m\u001b[0mnlevels\u001b[0m \u001b[0;34m>\u001b[0m \u001b[0;36m1\u001b[0m\u001b[0;34m:\u001b[0m\u001b[0;34m\u001b[0m\u001b[0;34m\u001b[0m\u001b[0m\n\u001b[1;32m   3457\u001b[0m                 \u001b[0;32mreturn\u001b[0m \u001b[0mself\u001b[0m\u001b[0;34m.\u001b[0m\u001b[0m_getitem_multilevel\u001b[0m\u001b[0;34m(\u001b[0m\u001b[0mkey\u001b[0m\u001b[0;34m)\u001b[0m\u001b[0;34m\u001b[0m\u001b[0;34m\u001b[0m\u001b[0m\n\u001b[0;32m-> 3458\u001b[0;31m             \u001b[0mindexer\u001b[0m \u001b[0;34m=\u001b[0m \u001b[0mself\u001b[0m\u001b[0;34m.\u001b[0m\u001b[0mcolumns\u001b[0m\u001b[0;34m.\u001b[0m\u001b[0mget_loc\u001b[0m\u001b[0;34m(\u001b[0m\u001b[0mkey\u001b[0m\u001b[0;34m)\u001b[0m\u001b[0;34m\u001b[0m\u001b[0;34m\u001b[0m\u001b[0m\n\u001b[0m\u001b[1;32m   3459\u001b[0m             \u001b[0;32mif\u001b[0m \u001b[0mis_integer\u001b[0m\u001b[0;34m(\u001b[0m\u001b[0mindexer\u001b[0m\u001b[0;34m)\u001b[0m\u001b[0;34m:\u001b[0m\u001b[0;34m\u001b[0m\u001b[0;34m\u001b[0m\u001b[0m\n\u001b[1;32m   3460\u001b[0m                 \u001b[0mindexer\u001b[0m \u001b[0;34m=\u001b[0m \u001b[0;34m[\u001b[0m\u001b[0mindexer\u001b[0m\u001b[0;34m]\u001b[0m\u001b[0;34m\u001b[0m\u001b[0;34m\u001b[0m\u001b[0m\n",
      "\u001b[0;32m/opt/conda/lib/python3.9/site-packages/pandas/core/indexes/base.py\u001b[0m in \u001b[0;36mget_loc\u001b[0;34m(self, key, method, tolerance)\u001b[0m\n\u001b[1;32m   3361\u001b[0m                 \u001b[0;32mreturn\u001b[0m \u001b[0mself\u001b[0m\u001b[0;34m.\u001b[0m\u001b[0m_engine\u001b[0m\u001b[0;34m.\u001b[0m\u001b[0mget_loc\u001b[0m\u001b[0;34m(\u001b[0m\u001b[0mcasted_key\u001b[0m\u001b[0;34m)\u001b[0m\u001b[0;34m\u001b[0m\u001b[0;34m\u001b[0m\u001b[0m\n\u001b[1;32m   3362\u001b[0m             \u001b[0;32mexcept\u001b[0m \u001b[0mKeyError\u001b[0m \u001b[0;32mas\u001b[0m \u001b[0merr\u001b[0m\u001b[0;34m:\u001b[0m\u001b[0;34m\u001b[0m\u001b[0;34m\u001b[0m\u001b[0m\n\u001b[0;32m-> 3363\u001b[0;31m                 \u001b[0;32mraise\u001b[0m \u001b[0mKeyError\u001b[0m\u001b[0;34m(\u001b[0m\u001b[0mkey\u001b[0m\u001b[0;34m)\u001b[0m \u001b[0;32mfrom\u001b[0m \u001b[0merr\u001b[0m\u001b[0;34m\u001b[0m\u001b[0;34m\u001b[0m\u001b[0m\n\u001b[0m\u001b[1;32m   3364\u001b[0m \u001b[0;34m\u001b[0m\u001b[0m\n\u001b[1;32m   3365\u001b[0m         \u001b[0;32mif\u001b[0m \u001b[0mis_scalar\u001b[0m\u001b[0;34m(\u001b[0m\u001b[0mkey\u001b[0m\u001b[0;34m)\u001b[0m \u001b[0;32mand\u001b[0m \u001b[0misna\u001b[0m\u001b[0;34m(\u001b[0m\u001b[0mkey\u001b[0m\u001b[0;34m)\u001b[0m \u001b[0;32mand\u001b[0m \u001b[0;32mnot\u001b[0m \u001b[0mself\u001b[0m\u001b[0;34m.\u001b[0m\u001b[0mhasnans\u001b[0m\u001b[0;34m:\u001b[0m\u001b[0;34m\u001b[0m\u001b[0;34m\u001b[0m\u001b[0m\n",
      "\u001b[0;31mKeyError\u001b[0m: ('CASE_TYPE', 'channel')"
     ]
    }
   ],
   "source": [
    "df[\"CASE_TYPE\", \"channel\"].value_counts()"
   ]
  },
  {
   "cell_type": "code",
   "execution_count": 6,
   "id": "a87069c4-ea8c-4530-a84f-81a60c1dc110",
   "metadata": {},
   "outputs": [
    {
     "data": {
      "text/plain": [
       "CASE_TYPE          channel\n",
       "CLAIM - SPEC ONLY  xbulk      56462\n",
       "                   paper       9205\n",
       "                   mcol        8143\n",
       "PERSONAL INJURY    paper       5232\n",
       "CLAIM - SPEC ONLY  ocmc_mc     3575\n",
       "PERSONAL INJURY    ocmc_lr      147\n",
       "dtype: int64"
      ]
     },
     "execution_count": 6,
     "metadata": {},
     "output_type": "execute_result"
    }
   ],
   "source": [
    "df[[\"CASE_TYPE\", \"channel\"]].value_counts()"
   ]
  },
  {
   "cell_type": "code",
   "execution_count": null,
   "id": "8c5daa29-fd1f-445b-a847-8ff5f21709c5",
   "metadata": {},
   "outputs": [],
   "source": []
  }
 ],
 "metadata": {
  "kernelspec": {
   "display_name": "Python 3 (ipykernel)",
   "language": "python",
   "name": "python3"
  },
  "language_info": {
   "codemirror_mode": {
    "name": "ipython",
    "version": 3
   },
   "file_extension": ".py",
   "mimetype": "text/x-python",
   "name": "python",
   "nbconvert_exporter": "python",
   "pygments_lexer": "ipython3",
   "version": "3.9.6"
  }
 },
 "nbformat": 4,
 "nbformat_minor": 5
}
