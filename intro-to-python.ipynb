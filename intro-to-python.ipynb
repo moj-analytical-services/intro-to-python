{
 "cells": [
  {
   "cell_type": "markdown",
   "id": "f7b80f8a-d727-4ce1-8ce3-86e593410028",
   "metadata": {},
   "source": [
    "### Part 2, Task cont\n",
    "\n",
    "Let's import the `pandas` package for later use. We can do this with the import statement. \n",
    "\n",
    "In Jupyter, we can run all the code in a \"cell\" (a block of code) by hitting `shift` and `return`. \n",
    "\n",
    "Run the cell below to import the `pandas` package. The `as` statement allows us to refer to `pandas` with an alias making our code later on a little easier to read (and type)."
   ]
  },
  {
   "cell_type": "code",
   "execution_count": null,
   "id": "bba2d530-001e-4bd2-b697-43be247653ec",
   "metadata": {},
   "outputs": [],
   "source": [
    "import pandas as pd"
   ]
  },
  {
   "cell_type": "markdown",
   "id": "e090f861-bcd4-4e76-a026-75702220a3d9",
   "metadata": {},
   "source": [
    "## Part 3: General Python concepts\n",
    "\n",
    "We'll return to using the `pandas` package for data analysis later. But it is worth taking a step back and going over a few basics of python.\n",
    "\n",
    "### Data Types: floats, ints and strings\n",
    "\n",
    "In Python, there are about a dozen or so built in data types. We won't cover them all right now, but there are a few that are useful to know.\n",
    "\n",
    "Firstly we'll compare numeric and text type. The two key numeric data types are `float` and `int` (integer). To see how these differ let's look at the cells below."
   ]
  },
  {
   "cell_type": "code",
   "execution_count": null,
   "id": "4784846c-f5ca-4d4b-884c-e69dd36a1777",
   "metadata": {},
   "outputs": [],
   "source": [
    "# we can assign a value to a variable with =\n",
    "a = 1.2\n",
    "b = 2.9\n",
    "\n",
    "# both of the values above are currently floats. Try running this cell to return the result of the sum below\n",
    "print(a + b)"
   ]
  },
  {
   "cell_type": "markdown",
   "id": "2b3661cf-45ba-48b8-a865-0af954a71a7c",
   "metadata": {},
   "source": [
    "We can turn `a` and `b` into integers by wrapping the value in `int()` e.g. `int(3.8)`. \n",
    "\n",
    "**Task**: in the cell above, make `a` and `b` integers and see what the result is.\n",
    "\n",
    "<details><summary><b>Solution</b></summary>\n",
    "  \n",
    "<pre><code>\n",
    "a = int(1.2)\n",
    "b = int(2.9)\n",
    "\n",
    "print(a + b)\n",
    "\n",
    " </code></pre>\n",
    "</details>\n",
    "<br>\n",
    "\n",
    "Text data types are called `strings`. You can assign a string by wrapping it in quotes (e.g. \"Python\").\n",
    "\n",
    "**Task**: in the cell below, assign `string1` to \"Hello\" and `string2` to \"world\".\n",
    "\n",
    "<details><summary><b>Solution</b></summary>\n",
    "  \n",
    "<pre><code>\n",
    "string1 = \"Hello\"\n",
    "string2 = \"world\"\n",
    "\n",
    "print(string1 + \", \" + string2)\n",
    "\n",
    " </code></pre>\n",
    "</details>\n",
    "<br>"
   ]
  },
  {
   "cell_type": "code",
   "execution_count": null,
   "id": "b23497af-1417-4eb8-a37f-c59c07efee0c",
   "metadata": {},
   "outputs": [],
   "source": [
    "string1 = \"\"\n",
    "string2 = \"\"\n",
    "\n",
    "print(string1 + \", \" + string2)"
   ]
  },
  {
   "cell_type": "markdown",
   "id": "b014cee4-5d4d-4904-8967-9f33892cfb05",
   "metadata": {},
   "source": [
    "**Task**: in the cell below, change the values of `a` and `b` to strings to see how the result of the sum changes\n",
    "\n",
    "<details><summary><b>Solution</b></summary>\n",
    "  \n",
    "<pre><code>\n",
    "a = \"1\"\n",
    "b = \"2\"\n",
    "\n",
    "print(a + b)\n",
    "\n",
    " </code></pre>\n",
    "</details>\n",
    "<br>"
   ]
  },
  {
   "cell_type": "code",
   "execution_count": null,
   "id": "e36b36b9-c699-449f-b6ce-9dc2b378f85f",
   "metadata": {},
   "outputs": [],
   "source": [
    "a = 1\n",
    "b = 2\n",
    "\n",
    "print(a + b)"
   ]
  },
  {
   "cell_type": "markdown",
   "id": "0ce01b0f-a829-488e-91cf-659a95c2f0b6",
   "metadata": {},
   "source": [
    "### Data Types: Lists\n",
    "\n",
    "A list is a type of sequence, allowing us to store multiple values. Lists look like this: `[1, 2, \"a_string\", 3.8]`. As you can see in the example, lists can store values with different data types.\n",
    "\n",
    "We'll also introduce another concept here, the for loop. This allows us to loop through each value in a list and do something to it. To add a value to a list you can use the method, `append` (e.g `a_list.append(1)`).\n",
    "\n",
    "**Task**: in the cell below, replace `print(value)` to instead append two times each value in `my_list` to `my_new_list` (hint the multiply operator in python is `*`)\n",
    "\n",
    "<details><summary><b>Solution</b></summary>\n",
    "  \n",
    "<pre><code>\n",
    "my_list = [1, 2, 3, 4, 5]\n",
    "my_new_list = []\n",
    "for value in my_list:\n",
    "    my_new_list.append(value*2)\n",
    "    \n",
    "print(my_new_list)\n",
    "\n",
    " </code></pre>\n",
    "</details>\n",
    "<br>"
   ]
  },
  {
   "cell_type": "code",
   "execution_count": null,
   "id": "fc386617-b0c3-4030-9526-d87e7a30dbd7",
   "metadata": {},
   "outputs": [],
   "source": [
    "my_list = [1, 2, 3, 4, 5]\n",
    "my_new_list = []\n",
    "for value in my_list:\n",
    "    print(value)\n",
    "    \n",
    "print(my_new_list)"
   ]
  },
  {
   "cell_type": "markdown",
   "id": "2d92ae25-f71f-416f-a7de-5da06ec1ab98",
   "metadata": {},
   "source": [
    "You'll notice that everything inside the for loop is indented. Indentation is a way of telling the python interpreter that the group of statements belongs to a particular block of code. This is a key part of python. If you are used to other langauages such as R, you'll be familiar with brackets being used for this purpose instead.\n",
    "\n",
    "We can access a single value or several values of a list by using its index. An important aspect of python to remember is that its index starts at zero. We therefore access the first value of a list as `a_list[0]`. \n",
    "\n",
    "**Task** change the code below to access the third value of the list.\n",
    "\n",
    "We can take a slice (multiple values) of a list using the notation `a_list[m:n]`: starting with postion m and up to but not including n (e.g `a_list[0:2]` to return the first two values).\n",
    "\n",
    "**Task** change the code below to access the 3rd to 5th values of the list.\n",
    "\n",
    "<details><summary><b>Solution</b></summary>\n",
    "  \n",
    "<pre><code>\n",
    "my_list = [\"hello\", 20, 30, 40, 52.9]\n",
    "print(my_list[2:5])\n",
    "\n",
    " </code></pre>\n",
    "</details>"
   ]
  },
  {
   "cell_type": "code",
   "execution_count": null,
   "id": "7fe114b7-0737-4a06-aa3e-3d2536770c72",
   "metadata": {},
   "outputs": [],
   "source": [
    "my_list = [\"hello\", 20, 30, 40, 52.9]\n",
    "print(my_list[0])"
   ]
  },
  {
   "cell_type": "markdown",
   "id": "2be5895d-a98d-4777-b65c-5fa9b958323b",
   "metadata": {},
   "source": [
    "You can also specify only `m` or `n` to have an open-ended selection, e.g. `a_list[2:]` to return all values after the second or `a_list[:2]` to return the first two values.\n",
    "\n",
    "A negative index returns a value counting from the end of the list, rather than the start. So `a_list[-1]` is the last value, `a_list[-2]` the second-to-last value and so on.\n",
    "\n",
    "**Task**: change the code below to access the last three values of the list.\n",
    "\n",
    "<details><summary><b>Solution</b></summary>\n",
    "  \n",
    "<pre><code>\n",
    "my_list = [\"Antwerp\", 72, 0, -813.4, \"woodpecker\", \"sandwich\", 17.8, 1, 1, 19, \"reptilian\", 2]\n",
    "print(my_list[-3:])\n",
    "\n",
    " </code></pre>\n",
    "</details>"
   ]
  },
  {
   "cell_type": "code",
   "execution_count": null,
   "id": "5097d110",
   "metadata": {},
   "outputs": [],
   "source": [
    "my_list = [\"Antwerp\", 72, 0, -813.4, \"woodpecker\", \"sandwich\", 17.8, 1, 1, 19, \"reptilian\", 2]\n",
    "print(my_list[0])"
   ]
  },
  {
   "cell_type": "markdown",
   "id": "108afc26",
   "metadata": {},
   "source": [
    "\n",
    "\n",
    "### Data Types: Dictionaries\n",
    "\n",
    "A dictionary is a different type of sequence. Dictionaries store values indexed by a key, rather than by their order in the sequence. They are designated by curly brackets, for example: `legs = {\"dragon\": 4, \"wyvern\": 2, \"serpent\": 0, \"millipede\": \"lots\"}`. In this example `\"dragon\"`, `\"wyvern\"`, `\"serpent\"` and `\"millipede\"`are the keys, and `4`, `2`, `0` and `\"lots\"` are the respective values.\n",
    "\n",
    "Values in a dictionary may be accessed using square brackets, for example `legs[\"millipede\"]` would return `\"lots\"`. New values may be added by assigning them to a new key, for example `legs[\"spider\"] = 8`.\n",
    "\n",
    "**Task**: in the cell below, before `print(creature)` add a line to add a new key `\"limbs\"` to each of the dictionaries, being the sum of the other values.\n",
    "\n",
    "<details><summary><b>Solution</b></summary>\n",
    "  \n",
    "<pre><code>\n",
    "dragon = {\"legs\": 4, \"arms\": 0, \"wings\": 2, \"tails\": 1}\n",
    "human = {\"legs\": 2, \"arms\": 2, \"wings\": 0, \"tails\": 0}\n",
    "dragonfly = {\"legs\": 6, \"arms\": 0, \"wings\": 4, \"tails\": 0}\n",
    "for creature in [dragon, human, dragonfly]:\n",
    "    creature[\"limbs\"] = creature[\"legs\"] + creature[\"arms\"] + creature[\"wings\"] + creature[\"tails\"]\n",
    "    print(creature)\n",
    " </code></pre>\n",
    "</details>\n",
    "<br>\n",
    "\n"
   ]
  },
  {
   "cell_type": "code",
   "execution_count": null,
   "id": "4d4afc37",
   "metadata": {},
   "outputs": [],
   "source": [
    "dragon = {\"legs\": 4, \"arms\": 0, \"wings\": 2, \"tails\": 1}\n",
    "human = {\"legs\": 2, \"arms\": 2, \"wings\": 0, \"tails\": 0}\n",
    "dragonfly = {\"legs\": 6, \"arms\": 0, \"wings\": 4, \"tails\": 0}\n",
    "for creature in [dragon, human, dragonfly]:\n",
    "    print(creature)"
   ]
  },
  {
   "cell_type": "markdown",
   "id": "2753e65d",
   "metadata": {},
   "source": [
    "\n",
    "\n",
    "### Data Types: bool\n",
    "\n",
    "Another data type in python is the `bool` (Boolean). This can only take two values, `True` or `False` (note here the case: in python case matters, so `True` is different from `true` or `TRUE`).\n",
    "\n",
    "We'll introduce a related concept here: the `if` statement, which we'll discuss more later.\n",
    "\n",
    "**Task**: Change `my_bool` to `True` to get the print statement to execute.\n",
    "\n",
    "<details><summary><b>Solution</b></summary>\n",
    "  \n",
    "<pre><code>\n",
    "my_bool = True\n",
    "if my_bool is True:\n",
    "    print(f\"Yes, my bool is {my_bool}\")\n",
    "\n",
    " </code></pre>\n",
    "</details>\n",
    "<br>"
   ]
  },
  {
   "cell_type": "code",
   "execution_count": null,
   "id": "aff884f5-4734-409a-99b8-9a9cf775228e",
   "metadata": {},
   "outputs": [],
   "source": [
    "my_bool = False\n",
    "if my_bool is True:\n",
    "    print(f\"Yes, my bool is {my_bool}\")"
   ]
  },
  {
   "cell_type": "markdown",
   "id": "c0e7aadd-7ad0-4645-882d-1eb0161e1301",
   "metadata": {},
   "source": [
    "We've sneakily introduced another useful feature of python here: the f-string. This allows you to insert a value easily into a string. To achieve this we prefix our string with an `f` and use curly brackets to add any variables you have pre-assigned. \n",
    "\n",
    "There are other data types which you may come across but we'll move on for now.\n",
    "\n",
    "### Operators and logical conditions\n",
    "\n",
    "We introduced the concept of an if statement earlier. As well as `is` and a couple more special operators, python supports the conditions listed below:\n",
    "\n",
    "* Equals: `a == b`\n",
    "* Not Equals: `a != b`\n",
    "* Less than: `a < b`\n",
    "* Less than or equal to: `a <= b`\n",
    "* Greater than: `a > b`\n",
    "* Greater than or equal to: `a >= b`\n",
    "\n",
    "These can be introduced to an if statement like:\n",
    "\n",
    "```\n",
    "if a == b:\n",
    "    print(\"a is equal to b!\")\n",
    "```\n",
    "\n",
    "**Task**: in the cell below, use a `for` loop, an `if` statement and an f-string to check if each value in the list is greater than 5, and if it is, print a string saying what the value is and that it is greater than 5.\n",
    "\n",
    "<details><summary><b>Solution</b></summary>\n",
    "  \n",
    "<pre><code>\n",
    "my_list = [5, 2, 7, 9, 1]\n",
    "for value in my_list:\n",
    "    if value > 5:\n",
    "        print(f\"{value} is greater than 5!\")\n",
    "\n",
    " </code></pre>\n",
    "</details>\n",
    "<br>"
   ]
  },
  {
   "cell_type": "code",
   "execution_count": null,
   "id": "a1b2a06f-ef84-4b11-adcd-274921fc1002",
   "metadata": {},
   "outputs": [],
   "source": [
    "my_list = [5, 2, 7, 9, 1]\n",
    "for value in my_list:\n",
    "    ..."
   ]
  },
  {
   "cell_type": "markdown",
   "id": "06b3bd50-0ad5-4b94-b8cd-7a63fce61860",
   "metadata": {},
   "source": [
    "You can also use the conditions `and` (true if both of the conditions either side of it are true), `or` (true if at least one of the conditions either side of it are true) and `not` (true if the condition after it is false) to build more complicated conditions Regular brackets `(` and `)` can be used to group conditions to control the order in which they are evaluated.\n",
    "\n",
    "Another very useful condition is `in` to test whether something is present in a list. `a in b` returns true only if the list `b` contains the value `a`. `not in` does exactly the opposite.\n",
    "\n",
    "**Task**: in the cell below, use a `for` loop and a single `if` statement to print the letters which appear in string `a` but not in `b`. Note that characters in a string work just like values in a list.\n",
    "\n",
    "<details><summary><b>Solution</b></summary>\n",
    "  \n",
    "<pre><code>\n",
    "a = \"violin\"\n",
    "b = \"vandal\"\n",
    "for character in \"abcdefghijklmnopqrstuvwxyz\":\n",
    "    if (character in a) and (character not in b):\n",
    "        print(character)\n",
    " </code></pre>\n",
    "</details>\n",
    "<br>\n",
    "\n"
   ]
  },
  {
   "cell_type": "code",
   "execution_count": null,
   "id": "b30cd768",
   "metadata": {},
   "outputs": [],
   "source": [
    "a = \"violin\"\n",
    "b = \"vandal\"\n",
    "for character in \"abcdefghijklmnopqrstuvwxyz\":\n",
    "    ..."
   ]
  },
  {
   "cell_type": "markdown",
   "id": "ef9459dd",
   "metadata": {},
   "source": [
    "\n",
    "\n",
    "### Functions\n",
    "\n",
    "A function is a group of related statements that perform a specific task. Functions can take input value(s) and they can return value(s). \n",
    "\n",
    "Variables that are declared within a function cannot be accessed outside the function (they are \"local\" to the function). They are useful for breaking code into smaller, modular chunks. \n",
    "\n",
    "You can define a function with the keyword `def`. The example below takes in a value, multiplies it by 4 and subtracts 3, and returns the value.\n",
    "\n",
    "**Task**: change the function below to only subtract 3 if `x * 4` is greater than 30.\n",
    "\n",
    "**Task**: now change the function to multiply `x` by a second argument/value, `y`, rather than by 4 (might take a little bit of googling).\n",
    "\n",
    "\n",
    "<details><summary><b>Solution</b></summary>\n",
    "  \n",
    "<pre><code>\n",
    "def my_function(x, y):\n",
    "    new_number = x * y\n",
    "    if new_number > 30:\n",
    "        new_number = new_number - 3\n",
    "    return new_number\n",
    "\n",
    "z = my_function(7, 5)\n",
    "print(z)\n",
    "\n",
    "Note: You can also use the notation new_number -= 3 to subtract three from new_number\n",
    "\n",
    " </code></pre>\n",
    "</details>\n",
    "<br>"
   ]
  },
  {
   "cell_type": "code",
   "execution_count": null,
   "id": "a633a861-8d50-4fbe-877c-8f2a9d9a2dff",
   "metadata": {},
   "outputs": [],
   "source": [
    "def my_function(x):\n",
    "    new_number = x * 4 - 3\n",
    "    return new_number\n",
    "\n",
    "z = my_function(7)\n",
    "print(z)"
   ]
  },
  {
   "cell_type": "markdown",
   "id": "5193e6a0-aec8-4e9d-b37a-55a1a430ebb0",
   "metadata": {},
   "source": [
    "## Part 4: Pandas and S3\n",
    "\n",
    "Note: To complete this part of the training, you will need access to the `alpha-everyone` S3 bucket. To gain this access, add your username to [this file](https://github.com/moj-analytical-services/data-engineering-database-access/blob/main/project_access/standard_database_access.yaml) by clicking the pen in the top right corner, and following instructions from there to create a pull request. For help, you can ask in the [#ask-data-engineering](https://asdslack.slack.com/archives/C8X3PP1TN) slack channel.\n",
    "\n",
    "We imported pandas earlier. Pandas is a data analysis package that you will likely work with a lot if you use python. Pandas stores tabular data in a object called a DataFrame. If you have used R before, this is a concept you will be familiar with. Either way, we will learn about how to manipulate data in DataFrames below.\n",
    "\n",
    "### Reading a CSV from S3\n",
    "\n",
    "Pandas offers a simple solution to reading in files from the Analytical Platform's storage area, AWS S3. We can read in a CSV, JSON or Parquet file with a single line of code, after installing the s3fs package.\n",
    "\n",
    "* `pd.read_csv(\"path_to_file_in_s3\")`\n",
    "* `pd.read_json(\"path_to_file_in_s3\")`\n",
    "* `pd.read_parquet(\"path_to_file_in_s3\")`\n",
    "\n",
    "**Task**: install the `s3fs` package to access data from s3\n",
    "\n",
    "**Task**: Alter the code below to read in the file \"s3://alpha-everyone/python_training/courts_data.json\"\n",
    "\n",
    "<details><summary><b>Solution</b></summary>\n",
    "  \n",
    "<pre><code>\n",
    "You can either go back to the terminal and `pip install s3fs`, or you can also run `!pip install s3fs` in a cell in this notebook\n",
    "\n",
    "`df = pd.read_json(\"s3://alpha-everyone/python_training/courts_data.json\")`\n",
    " </code></pre>\n",
    "</details>\n",
    "<br>"
   ]
  },
  {
   "cell_type": "code",
   "execution_count": null,
   "id": "ea644e4a-387d-43da-b2bb-56919c81a8be",
   "metadata": {},
   "outputs": [],
   "source": [
    "df = pd.read_json(\"\")\n",
    "df.head()"
   ]
  },
  {
   "cell_type": "markdown",
   "id": "56ba1f39-9480-413f-bb86-c14379c6386e",
   "metadata": {},
   "source": [
    "The `.head()` method allows us to view just the first 5 rows of the DataFrame. You can view more by adding in the number of rows as an argument (e.g `df.head(8)`). We see that the file contains details on a selection of courts, including their location and their type(s).\n",
    "\n",
    "### Summarising and manipulating data in pandas\n",
    "\n",
    "Pandas provides some built in functions for summarising and manipulating data.\n",
    "\n",
    "The `.describe()` method will give basic statistics on all numeric columns in a dataframe as shown if you run the cell below. However, we might want to just look at a single column, and perhaps we are only interested in one statistic. To reference a column, we use square brackets and the name of the column (`df[\"column_name\"]`). We can apply a variety of different methods to a column, including (but certainly not limited to!): `.mean()`, `.min()`, `.max()` and `.median()`\n",
    "\n",
    "**Task**: Change the code below to find the latitude of the northen-most court\n",
    "\n",
    "<details><summary><b>Solution</b></summary>\n",
    "  \n",
    "<pre><code>\n",
    "df[\"latitude\"].max()\n",
    "\n",
    " </code></pre>\n",
    "</details>\n",
    "<br>\n"
   ]
  },
  {
   "cell_type": "code",
   "execution_count": null,
   "id": "129ca236-6378-45c9-b609-fce0fe581512",
   "metadata": {},
   "outputs": [],
   "source": [
    "df.describe()"
   ]
  },
  {
   "cell_type": "markdown",
   "id": "92ceea14-78f2-477a-8053-3c5d4ee16dbe",
   "metadata": {},
   "source": [
    "That's great, but this doesn't actually show us which court it is. We might find a different method useful for this. We can try sorting the entire dataframe. For this we can use `.sort_values(by=column_name, ascending=True/False)`.\n",
    "\n",
    "**Task**: In the cell below, sort the dataframe, `df`, by western-most court to eastern-most court.\n",
    "\n",
    "<details><summary><b>Solution</b></summary>\n",
    "  \n",
    "<pre><code>\n",
    "df.sort_values(by=\"longitude\", ascending=True)\n",
    "\n",
    " </code></pre>\n",
    "</details>\n",
    "<br>\n"
   ]
  },
  {
   "cell_type": "code",
   "execution_count": null,
   "id": "a4b28cf8-ac6c-4873-88bc-bd196dfb5d96",
   "metadata": {},
   "outputs": [],
   "source": [
    "df.head()"
   ]
  },
  {
   "cell_type": "markdown",
   "id": "9d0d1d70-2538-43ed-b94e-6688466ce0cb",
   "metadata": {},
   "source": [
    "The column `court_types` tells us what type of court it is, however, a court can have more than one type. At the moment, the column contains a list. For the next task we are going to want to filter the dataframe to only contain family courts. But we'll want to do a bit of manipulation first to make that happen. We'll want to create a row for each entry in the court type list. To do this we can use `explode()`. Pandas has good documentation with examples you can use to understand how to use it, see [here](https://pandas.pydata.org/docs/reference/api/pandas.DataFrame.explode.html).\n",
    "\n",
    "We can also filter a dataframe on a column using the notation `df[df[\"column_name\"] == value]`.\n",
    "\n",
    "**Task**: In the cell below, alter the code to filter the dataframe df to only show \"Family Court\"s.\n",
    "\n",
    "Note that up until now, we haven't been permanently altering the dataframe with our code. To retain our exploded dataframe we'll need to  assign a new dataframe (with the same name) using `df = df....`\n",
    "\n",
    "<details><summary><b>Solution</b></summary>\n",
    "  \n",
    "<pre><code>\n",
    "df = df.explode(\"court_types\", ignore_index=True)\n",
    "df[df[\"court_types\"] == \"Family Court\"].reset_index()\n",
    "\n",
    "Note that ignore_index and reset_index() are not strictly required but are good practice.\n",
    "\n",
    " </code></pre>\n",
    "</details>\n",
    "<br>\n",
    "\n"
   ]
  },
  {
   "cell_type": "code",
   "execution_count": null,
   "id": "9da9e18c-f037-4777-b710-28d8cae56ee9",
   "metadata": {},
   "outputs": [],
   "source": [
    "df = df...\n",
    "df[]"
   ]
  },
  {
   "cell_type": "markdown",
   "id": "0f3560ea-46b9-4edb-ae90-87b9f4a6af31",
   "metadata": {},
   "source": [
    "Now we'll try one final few harder tasks. We want to figure out how far each court is in km from 102 Petty France. For this we'll need a function to calculate distance using latitude and longitude, and we'll need to apply that function to each row in the dataframe.\n",
    "\n",
    "**Task**: Using the answer to this stack overflow question (https://stackoverflow.com/a/19412565), produce a function that takes in four arguments: latitude of point 1, longitude of point 1, latitude of point 2, longitude of point 2; and returns distance between the coordinates in km. Code has been started for you below.\n",
    "\n",
    "<details><summary><b>Solution</b></summary>\n",
    "  \n",
    "<pre><code>\n",
    "def distance_between_coordinates(lat1, lon1, lat2, lon2):\n",
    "    # approximate radius of earth in km\n",
    "    R = 6373.0\n",
    "    \n",
    "    lat1 = radians(lat1)\n",
    "    lon1 = radians(lon1)\n",
    "    lat2 = radians(lat2)\n",
    "    lon2 = radians(lon2)\n",
    "    \n",
    "    dlon = lon2 - lon1\n",
    "    dlat = lat2 - lat1\n",
    "    \n",
    "    a = sin(dlat / 2)**2 + cos(lat1) * cos(lat2) * sin(dlon / 2)**2\n",
    "    c = 2 * atan2(sqrt(a), sqrt(1 - a))\n",
    "    distance = R * c\n",
    "       \n",
    "    return distance\n",
    "\n",
    " </code></pre>\n",
    "</details>\n",
    "<br>"
   ]
  },
  {
   "cell_type": "code",
   "execution_count": null,
   "id": "709a64d1-c957-4c86-9894-2c37cda78970",
   "metadata": {},
   "outputs": [],
   "source": [
    "from math import sin, cos, sqrt, atan2, radians\n",
    "\n",
    "def distance_between_coordinates(lat1, lon1, lat2, lon2):\n",
    "    \n",
    "    return distance\n",
    "\n",
    "\n",
    "# to test your function you can run the code below \n",
    "# which should show the distance between\n",
    "# 10 South Colonnade and 102 Petty France\n",
    "distance_between_coordinates(51.504444, -0.021389, 51.500516, -0.133192)"
   ]
  },
  {
   "cell_type": "markdown",
   "id": "97d79d64-cac8-4b8f-ba1a-e0262a38ea06",
   "metadata": {},
   "source": [
    "To apply this function to every row in the dataframe, we'll need to use `apply()`. To apply a function with a single argument to a column we'd do: `df[\"new_column\"] = df[\"column_name\"].apply(my_function())`. However, our function takes in four arguments so we'll need to do something a bit more complex. This stack overflow article explains quite nicely how to do it: https://stackoverflow.com/a/52854800.\n",
    "\n",
    "**Task**: apply your function to the latitude and longitude columns in the dataframe so get the distance to 102 Petty France for each court. Note the coordinates of 102 Petty France are 51.500516, -0.133192. Then sort the dataframe to show closest courts first. What is the closest court?\n",
    "\n",
    "<details><summary><b>Solution</b></summary>\n",
    "    \n",
    "<pre><code>\n",
    "df[\"distance_to_location\"] = df.apply(\n",
    "        lambda x: distance_between_coordinates(\n",
    "            x[\"latitude\"], x[\"longitude\"], 51.500516, -0.133192\n",
    "        ),\n",
    "        axis=1,\n",
    "    )\n",
    "\n",
    "df.sort_values(by=\"distance_to_location\")\n",
    "\n",
    "The closest court is the Central London Employment Tribunal.\n",
    "\n",
    " </code></pre>\n",
    "</details>\n",
    "<br>"
   ]
  },
  {
   "cell_type": "code",
   "execution_count": null,
   "id": "1f105d05-2eb1-424a-88e2-a589c0e900e0",
   "metadata": {},
   "outputs": [],
   "source": [
    "df[\"distance_to_location\"] = ..."
   ]
  },
  {
   "cell_type": "code",
   "execution_count": null,
   "id": "d4a29849-248f-4711-ae69-c724e20177b7",
   "metadata": {},
   "outputs": [],
   "source": []
  }
 ],
 "metadata": {
  "kernelspec": {
   "display_name": "Python 3",
   "language": "python",
   "name": "python3"
  },
  "language_info": {
   "codemirror_mode": {
    "name": "ipython",
    "version": 3
   },
   "file_extension": ".py",
   "mimetype": "text/x-python",
   "name": "python",
   "nbconvert_exporter": "python",
   "pygments_lexer": "ipython3",
   "version": "3.9.4"
  }
 },
 "nbformat": 4,
 "nbformat_minor": 5
}
