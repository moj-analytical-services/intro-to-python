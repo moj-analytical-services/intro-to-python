{
 "cells": [
  {
   "cell_type": "markdown",
   "id": "f7b80f8a-d727-4ce1-8ce3-86e593410028",
   "metadata": {},
   "source": [
    "### Part 2, Task cont\n",
    "\n",
    "Let's import the `pandas` package for later use. We can do this with the import statement. \n",
    "\n",
    "In Jupyter, we can run all the code in a \"cell\" (a block of code) by hitting `shift` and `return`. \n",
    "\n",
    "Run the cell below to import the `pandas` package. The `as` statement allows us to refer to `pandas` with an alias making our code later on a little easier to read (and type)."
   ]
  },
  {
   "cell_type": "code",
   "execution_count": null,
   "id": "bba2d530-001e-4bd2-b697-43be247653ec",
   "metadata": {},
   "outputs": [],
   "source": [
    "import pandas as pd"
   ]
  },
  {
   "cell_type": "markdown",
   "id": "e090f861-bcd4-4e76-a026-75702220a3d9",
   "metadata": {},
   "source": [
    "## Part 3: General Python concepts\n",
    "\n",
    "We'll return to using the `pandas` package for data analysis later. But it is worth taking a step back and going over a few basics of python.\n",
    "\n",
    "### Data Types: floats, ints and strings\n",
    "\n",
    "In Python, there are about a dozen or so built in data types. We won't cover them all right now, but there are a few that are useful to know.\n",
    "\n",
    "Firstly we'll compare numeric and text type. The two key numeric data types are `float` and `int` (integer). To see how these differ let's look at the cells below."
   ]
  },
  {
   "cell_type": "code",
   "execution_count": null,
   "id": "4784846c-f5ca-4d4b-884c-e69dd36a1777",
   "metadata": {},
   "outputs": [],
   "source": [
    "# we can assign a value to a variable with =\n",
    "a = 1.2\n",
    "b = 2.9\n",
    "\n",
    "# both of the values above are currently floats. Try running this cell to return the result of the sum below\n",
    "print(a + b)"
   ]
  },
  {
   "cell_type": "markdown",
   "id": "2b3661cf-45ba-48b8-a865-0af954a71a7c",
   "metadata": {},
   "source": [
    "We can turn `a` and `b` into integers by wrapping the value in `int()` e.g. `int(3.8)`. \n",
    "\n",
    "**Task**: in the cell above, make `a` and `b` integers and see what the result is.\n",
    "\n",
    "<details><summary><b>Solution</b></summary>\n",
    "  \n",
    "<pre><code>\n",
    "a = int(1.2)\n",
    "b = int(2.9)\n",
    "\n",
    "print(a + b)\n",
    "\n",
    " </code></pre>\n",
    "</details>\n",
    "<br>\n",
    "\n",
    "Text data types are called `strings`. You can assign a string by wrapping it in quotes (e.g. \"Python\").\n",
    "\n",
    "**Task**: in the cell below, assign `string1` to \"Hello\" and `string2` to \"world\".\n",
    "\n",
    "<details><summary><b>Solution</b></summary>\n",
    "  \n",
    "<pre><code>\n",
    "string1 = \"Hello\"\n",
    "string2 = \"world\"\n",
    "\n",
    "print(string1 + \", \" + string2)\n",
    "\n",
    " </code></pre>\n",
    "</details>\n",
    "<br>"
   ]
  },
  {
   "cell_type": "code",
   "execution_count": null,
   "id": "b23497af-1417-4eb8-a37f-c59c07efee0c",
   "metadata": {},
   "outputs": [],
   "source": [
    "string1 = \"\"\n",
    "string2 = \"\"\n",
    "\n",
    "print(string1 + \", \" + string2)"
   ]
  },
  {
   "cell_type": "markdown",
   "id": "b014cee4-5d4d-4904-8967-9f33892cfb05",
   "metadata": {},
   "source": [
    "**Task**: in the cell below, change the values of `a` and `b` to strings to see how the result of the sum changes\n",
    "\n",
    "<details><summary><b>Solution</b></summary>\n",
    "  \n",
    "<pre><code>\n",
    "a = \"1\"\n",
    "b = \"2\"\n",
    "\n",
    "print(a + b)\n",
    "\n",
    " </code></pre>\n",
    "</details>\n",
    "<br>"
   ]
  },
  {
   "cell_type": "code",
   "execution_count": null,
   "id": "e36b36b9-c699-449f-b6ce-9dc2b378f85f",
   "metadata": {},
   "outputs": [],
   "source": [
    "a = 1\n",
    "b = 2\n",
    "\n",
    "print(a + b)"
   ]
  },
  {
   "cell_type": "markdown",
   "id": "0ce01b0f-a829-488e-91cf-659a95c2f0b6",
   "metadata": {},
   "source": [
    "### Data Types: Lists\n",
    "\n",
    "A list is a type of sequence, allowing us to store multiple values. Lists look like this: `[1, 2, \"a_string\", 3.8]`. As you can see in the example, lists can store values with different data types.\n",
    "\n",
    "We'll also introduce another concept here, the for loop. This allows us to loop through each value in a list and do something to it. To add a value to a list you can use the method, `append` (e.g `a_list.append(1)`).\n",
    "\n",
    "**Task**: in the cell below, replace `print(value)` to instead append two times each value in `my_list` to `my_new_list` (hint the multiply operator in python is `*`)\n",
    "\n",
    "<details><summary><b>Solution</b></summary>\n",
    "  \n",
    "<pre><code>\n",
    "my_list = [1, 2, 3, 4, 5]\n",
    "my_new_list = []\n",
    "for value in my_list:\n",
    "    my_new_list.append(value*2)\n",
    "    \n",
    "print(my_new_list)\n",
    "\n",
    " </code></pre>\n",
    "</details>\n",
    "<br>"
   ]
  },
  {
   "cell_type": "code",
   "execution_count": null,
   "id": "fc386617-b0c3-4030-9526-d87e7a30dbd7",
   "metadata": {},
   "outputs": [],
   "source": [
    "my_list = [1, 2, 3, 4, 5]\n",
    "my_new_list = []\n",
    "for value in my_list:\n",
    "    print(value)\n",
    "    \n",
    "print(my_new_list)"
   ]
  },
  {
   "cell_type": "markdown",
   "id": "2d92ae25-f71f-416f-a7de-5da06ec1ab98",
   "metadata": {},
   "source": [
    "You'll notice that everything inside the for loop is indented. Indentation is a way of telling the python interpreter that the group of statements belongs to a particular block of code. This is a key part of python. If you are used to other langauages such as R, you'll be familiar with brackets being used for this purpose instead.\n",
    "\n",
    "### Data Types: bool\n",
    "\n",
    "Another data type in python is the `bool` (Boolean). This can only take two values, `True` or `False` (note here the case: in python case matters, so `True` is different from `true` or `TRUE`).\n",
    "\n",
    "We'll introduce a related concept here: the `if` statement, which we'll discuss more later.\n",
    "\n",
    "**Task**: Change `my_bool` to `True` to get the print statement to execute.\n",
    "\n",
    "<details><summary><b>Solution</b></summary>\n",
    "  \n",
    "<pre><code>\n",
    "my_bool = True\n",
    "if my_bool is True:\n",
    "    print(f\"Yes, my bool is {my_bool}\")\n",
    "\n",
    " </code></pre>\n",
    "</details>\n",
    "<br>"
   ]
  },
  {
   "cell_type": "code",
   "execution_count": null,
   "id": "aff884f5-4734-409a-99b8-9a9cf775228e",
   "metadata": {},
   "outputs": [],
   "source": [
    "my_bool = False\n",
    "if my_bool is True:\n",
    "    print(f\"Yes, my bool is {my_bool}\")"
   ]
  },
  {
   "cell_type": "markdown",
   "id": "c0e7aadd-7ad0-4645-882d-1eb0161e1301",
   "metadata": {},
   "source": [
    "We've sneakily introduced another useful feature of python here: the f-string. This allows you to insert a value easily into a string. To achieve this we prefix our string with an `f` and use curly brackets to add any variables you have pre-assigned. \n",
    "\n",
    "There are other data types which you may come accross but we'll move on for now.\n",
    "\n",
    "### Operators and logical conditions\n",
    "\n",
    "We introduced the concept of an if statement earlier. As well as `is` and a couple more special operators, python supports the conditions listed below:\n",
    "\n",
    "* Equals: `a == b`\n",
    "* Not Equals: `a != b`\n",
    "* Less than: `a < b`\n",
    "* Less than or equal to: `a <= b`\n",
    "* Greater than: `a > b`\n",
    "* Greater than or equal to: `a >= b`\n",
    "\n",
    "These can be introduced to an if statement like:\n",
    "\n",
    "```\n",
    "if a == b:\n",
    "    print(\"a is equal to b!\")\n",
    "```\n",
    "\n",
    "**Task**: in the cell below, use a `for` loop, an `if` statement and an f-string to check if each value in the list is greater than 5. If it is, print a string saying what the value is and that it is greater than 5.\n",
    "\n",
    "<details><summary><b>Solution</b></summary>\n",
    "  \n",
    "<pre><code>\n",
    "my_list = [5, 2, 7, 9, 1]\n",
    "for value in my_list:\n",
    "    if value > 5:\n",
    "        print(f\"{value} is greater than 5!\")\n",
    "\n",
    " </code></pre>\n",
    "</details>\n",
    "<br>"
   ]
  },
  {
   "cell_type": "code",
   "execution_count": null,
   "id": "a1b2a06f-ef84-4b11-adcd-274921fc1002",
   "metadata": {},
   "outputs": [],
   "source": [
    "my_list = [5, 2, 7, 9, 1]\n",
    "for value in my_list:\n",
    "    ..."
   ]
  },
  {
   "cell_type": "markdown",
   "id": "06b3bd50-0ad5-4b94-b8cd-7a63fce61860",
   "metadata": {},
   "source": [
    "### Functions\n",
    "\n",
    "A function is a group of related statements that perform a specific task. Functions can take input value(s) and they can return value(s). \n",
    "\n",
    "Variables that are declared within a function cannot be accessed outside the function (they are \"local\" to the function). They are useful for breaking code into smaller, modular chunks. \n",
    "\n",
    "You can define a function with the keyword `def`. The example below takes in a value, multiplies it by 4 and subtracts 3, and returns the value.\n",
    "\n",
    "**Task**: change the function below to only subtract 3 if `x * 4` is greater than 30.\n",
    "\n",
    "**Task**: now change the function to multiply `x` by a second argument/value, `y`, rather than by 4 (might take a little bit of googling).\n",
    "\n",
    "\n",
    "<details><summary><b>Solution</b></summary>\n",
    "  \n",
    "<pre><code>\n",
    "def my_function(x, y):\n",
    "    new_number = x * y\n",
    "    if new_number > 30:\n",
    "        new_number = new_number - 3\n",
    "    return new_number\n",
    "\n",
    "z = my_function(7, 5)\n",
    "print(z)\n",
    "\n",
    "Note: You can also use the notation new_number -= 3 to subtract three from new_number\n",
    "\n",
    " </code></pre>\n",
    "</details>\n",
    "<br>"
   ]
  },
  {
   "cell_type": "code",
   "execution_count": null,
   "id": "a633a861-8d50-4fbe-877c-8f2a9d9a2dff",
   "metadata": {},
   "outputs": [],
   "source": [
    "def my_function(x):\n",
    "    new_number = x * 4 - 3\n",
    "    return new_number\n",
    "\n",
    "z = my_function(7)\n",
    "print(z)"
   ]
  }
 ],
 "metadata": {
  "kernelspec": {
   "display_name": "Python 3 (ipykernel)",
   "language": "python",
   "name": "python3"
  },
  "language_info": {
   "codemirror_mode": {
    "name": "ipython",
    "version": 3
   },
   "file_extension": ".py",
   "mimetype": "text/x-python",
   "name": "python",
   "nbconvert_exporter": "python",
   "pygments_lexer": "ipython3",
   "version": "3.9.6"
  }
 },
 "nbformat": 4,
 "nbformat_minor": 5
}
